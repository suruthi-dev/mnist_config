{
  "nbformat": 4,
  "nbformat_minor": 0,
  "metadata": {
    "colab": {
      "provenance": [],
      "gpuType": "T4"
    },
    "kernelspec": {
      "name": "python3",
      "display_name": "Python 3"
    },
    "language_info": {
      "name": "python"
    },
    "accelerator": "GPU"
  },
  "cells": [
    {
      "cell_type": "markdown",
      "source": [
        "# SURUTHI S\n",
        "# 225229141"
      ],
      "metadata": {
        "id": "lfIAfAdYlMt3"
      }
    },
    {
      "cell_type": "code",
      "source": [
        "pip install keras-tuner"
      ],
      "metadata": {
        "colab": {
          "base_uri": "https://localhost:8080/"
        },
        "id": "VfgXv3OoCJat",
        "outputId": "4f352ddc-0511-4d6f-da18-fab696ba3b22"
      },
      "execution_count": null,
      "outputs": [
        {
          "output_type": "stream",
          "name": "stdout",
          "text": [
            "Collecting keras-tuner\n",
            "  Downloading keras_tuner-1.3.5-py3-none-any.whl (176 kB)\n",
            "\u001b[?25l     \u001b[90m━━━━━━━━━━━━━━━━━━━━━━━━━━━━━━━━━━━━━━━━\u001b[0m \u001b[32m0.0/176.1 kB\u001b[0m \u001b[31m?\u001b[0m eta \u001b[36m-:--:--\u001b[0m\r\u001b[2K     \u001b[91m━━━━━━━━━━━━━━━━━━━━━━━━━━━━━━━━━━━━━━\u001b[0m\u001b[91m╸\u001b[0m \u001b[32m174.1/176.1 kB\u001b[0m \u001b[31m5.0 MB/s\u001b[0m eta \u001b[36m0:00:01\u001b[0m\r\u001b[2K     \u001b[90m━━━━━━━━━━━━━━━━━━━━━━━━━━━━━━━━━━━━━━━\u001b[0m \u001b[32m176.1/176.1 kB\u001b[0m \u001b[31m3.9 MB/s\u001b[0m eta \u001b[36m0:00:00\u001b[0m\n",
            "\u001b[?25hRequirement already satisfied: packaging in /usr/local/lib/python3.10/dist-packages (from keras-tuner) (23.1)\n",
            "Requirement already satisfied: requests in /usr/local/lib/python3.10/dist-packages (from keras-tuner) (2.27.1)\n",
            "Collecting kt-legacy (from keras-tuner)\n",
            "  Downloading kt_legacy-1.0.5-py3-none-any.whl (9.6 kB)\n",
            "Requirement already satisfied: urllib3<1.27,>=1.21.1 in /usr/local/lib/python3.10/dist-packages (from requests->keras-tuner) (1.26.16)\n",
            "Requirement already satisfied: certifi>=2017.4.17 in /usr/local/lib/python3.10/dist-packages (from requests->keras-tuner) (2023.7.22)\n",
            "Requirement already satisfied: charset-normalizer~=2.0.0 in /usr/local/lib/python3.10/dist-packages (from requests->keras-tuner) (2.0.12)\n",
            "Requirement already satisfied: idna<4,>=2.5 in /usr/local/lib/python3.10/dist-packages (from requests->keras-tuner) (3.4)\n",
            "Installing collected packages: kt-legacy, keras-tuner\n",
            "Successfully installed keras-tuner-1.3.5 kt-legacy-1.0.5\n"
          ]
        }
      ]
    },
    {
      "cell_type": "code",
      "source": [
        "import tensorflow as tf\n",
        "from tensorflow.keras import layers,models\n",
        "from kerastuner.tuners import RandomSearch\n",
        "import keras\n",
        "import keras_tuner\n",
        "from kerastuner.tuners import Hyperband"
      ],
      "metadata": {
        "id": "ELAPhKMfCJdk",
        "colab": {
          "base_uri": "https://localhost:8080/"
        },
        "outputId": "b0b6d780-fca2-47e4-efa3-cec81cfe1dfb"
      },
      "execution_count": null,
      "outputs": [
        {
          "output_type": "stream",
          "name": "stderr",
          "text": [
            "<ipython-input-4-7ef419865721>:3: DeprecationWarning: `import kerastuner` is deprecated, please use `import keras_tuner`.\n",
            "  from kerastuner.tuners import RandomSearch\n"
          ]
        }
      ]
    },
    {
      "cell_type": "code",
      "source": [
        "(x_train,y_train),(x_test, y_test) = tf.keras.datasets.mnist.load_data()"
      ],
      "metadata": {
        "colab": {
          "base_uri": "https://localhost:8080/"
        },
        "id": "i9G1k5qFCJgb",
        "outputId": "50de07a1-7c8d-42c1-d7c4-32d99653fafc"
      },
      "execution_count": null,
      "outputs": [
        {
          "output_type": "stream",
          "name": "stdout",
          "text": [
            "Downloading data from https://storage.googleapis.com/tensorflow/tf-keras-datasets/mnist.npz\n",
            "11490434/11490434 [==============================] - 0s 0us/step\n"
          ]
        }
      ]
    },
    {
      "cell_type": "code",
      "source": [
        "len(x_train),len(x_test)\n",
        "\n",
        "# 60000 for training\n",
        "# 10000 for testing"
      ],
      "metadata": {
        "colab": {
          "base_uri": "https://localhost:8080/"
        },
        "id": "NYBH7RnoCJi8",
        "outputId": "9d943f5e-48e7-411f-ea8a-b25472d87061"
      },
      "execution_count": null,
      "outputs": [
        {
          "output_type": "execute_result",
          "data": {
            "text/plain": [
              "(60000, 10000)"
            ]
          },
          "metadata": {},
          "execution_count": 4
        }
      ]
    },
    {
      "cell_type": "code",
      "source": [
        "x_train[2].dtype"
      ],
      "metadata": {
        "colab": {
          "base_uri": "https://localhost:8080/"
        },
        "id": "pUcYA9MADNJ0",
        "outputId": "670a0800-dc2f-48a5-cbac-0e6c18949759"
      },
      "execution_count": null,
      "outputs": [
        {
          "output_type": "execute_result",
          "data": {
            "text/plain": [
              "dtype('uint8')"
            ]
          },
          "metadata": {},
          "execution_count": 5
        }
      ]
    },
    {
      "cell_type": "code",
      "source": [
        "type(x_train[2])"
      ],
      "metadata": {
        "colab": {
          "base_uri": "https://localhost:8080/"
        },
        "id": "rhCtgTdADPoI",
        "outputId": "e2077672-4c54-445b-da36-e5b3cc6d8d87"
      },
      "execution_count": null,
      "outputs": [
        {
          "output_type": "execute_result",
          "data": {
            "text/plain": [
              "numpy.ndarray"
            ]
          },
          "metadata": {},
          "execution_count": 6
        }
      ]
    },
    {
      "cell_type": "code",
      "source": [
        "y_train[2]"
      ],
      "metadata": {
        "colab": {
          "base_uri": "https://localhost:8080/"
        },
        "id": "Ov5FGBl1CJlz",
        "outputId": "9463b9f8-f17a-4ba0-c712-ccb92dd9d9e4"
      },
      "execution_count": null,
      "outputs": [
        {
          "output_type": "execute_result",
          "data": {
            "text/plain": [
              "4"
            ]
          },
          "metadata": {},
          "execution_count": 7
        }
      ]
    },
    {
      "cell_type": "code",
      "source": [
        "import matplotlib.pyplot as plt"
      ],
      "metadata": {
        "id": "K2iP5zX7EOZ9"
      },
      "execution_count": null,
      "outputs": []
    },
    {
      "cell_type": "code",
      "source": [
        "for i in range(5):\n",
        "  plt.imshow(x_train[i])\n",
        "  plt.title(y_train[i])\n",
        "  plt.axis(\"off\")\n",
        "  plt.show()"
      ],
      "metadata": {
        "colab": {
          "base_uri": "https://localhost:8080/",
          "height": 1000
        },
        "id": "unMaZKvVCJo1",
        "outputId": "f797db4f-9ab2-4278-e6b6-be95af91481a"
      },
      "execution_count": null,
      "outputs": [
        {
          "output_type": "display_data",
          "data": {
            "text/plain": [
              "<Figure size 640x480 with 1 Axes>"
            ],
            "image/png": "[encoded data removed]"
          },
          "metadata": {}
        },
        {
          "output_type": "display_data",
          "data": {
            "text/plain": [
              "<Figure size 640x480 with 1 Axes>"
            ],
            "image/png": "[encoded data removed]"
          },
          "metadata": {}
        },
        {
          "output_type": "display_data",
          "data": {
            "text/plain": [
              "<Figure size 640x480 with 1 Axes>"
            ],
            "image/png": "[encoded data removed]"
          },
          "metadata": {}
        },
        {
          "output_type": "display_data",
          "data": {
            "text/plain": [
              "<Figure size 640x480 with 1 Axes>"
            ],
            "image/png": "[encoded data removed]"
          },
          "metadata": {}
        },
        {
          "output_type": "display_data",
          "data": {
            "text/plain": [
              "<Figure size 640x480 with 1 Axes>"
            ],
            "image/png": "[encoded data removed]"
          },
          "metadata": {}
        }
      ]
    },
    {
      "cell_type": "code",
      "source": [
        "x_train[1].shape"
      ],
      "metadata": {
        "colab": {
          "base_uri": "https://localhost:8080/"
        },
        "id": "OOoZHf67FnZc",
        "outputId": "8f859171-00a8-4ff9-d3aa-07c1110ab3ce"
      },
      "execution_count": null,
      "outputs": [
        {
          "output_type": "execute_result",
          "data": {
            "text/plain": [
              "(28, 28)"
            ]
          },
          "metadata": {},
          "execution_count": 10
        }
      ]
    },
    {
      "cell_type": "markdown",
      "source": [
        "# Baseline Model"
      ],
      "metadata": {
        "id": "ajkTSQZJFHRr"
      }
    },
    {
      "cell_type": "code",
      "source": [
        "model = tf.keras.Sequential()\n",
        "model.add(layers.Flatten(input_shape=(28,28)))\n",
        "\n",
        "# defining hyperparameters for number of nodes in hidden layer\n",
        "model.add(layers.Dense(512,activation = 'relu'))\n",
        "\n",
        "model.add(layers.Dense(10,activation = 'softmax'))\n",
        "\n",
        "model.compile(optimizer = 'adam',\n",
        "              loss = 'sparse_categorical_crossentropy',\n",
        "              metrics = ['accuracy'])"
      ],
      "metadata": {
        "id": "4dfDXLb0KSWT"
      },
      "execution_count": null,
      "outputs": []
    },
    {
      "cell_type": "code",
      "source": [
        "history_nodes = model.fit(x_train,y_train,epochs = 10,validation_split = 0.10)"
      ],
      "metadata": {
        "colab": {
          "base_uri": "https://localhost:8080/"
        },
        "id": "IcsckChyFFrz",
        "outputId": "5e4ae3ae-18a5-46d6-dc00-ebd0043bde0a"
      },
      "execution_count": null,
      "outputs": [
        {
          "output_type": "stream",
          "name": "stdout",
          "text": [
            "Epoch 1/10\n",
            "1688/1688 [==============================] - 16s 6ms/step - loss: 2.9446 - accuracy: 0.9004 - val_loss: 0.3943 - val_accuracy: 0.9303\n",
            "Epoch 2/10\n",
            "1688/1688 [==============================] - 10s 6ms/step - loss: 0.3561 - accuracy: 0.9346 - val_loss: 0.3206 - val_accuracy: 0.9490\n",
            "Epoch 3/10\n",
            "1688/1688 [==============================] - 6s 3ms/step - loss: 0.3089 - accuracy: 0.9411 - val_loss: 0.2809 - val_accuracy: 0.9487\n",
            "Epoch 4/10\n",
            "1688/1688 [==============================] - 6s 3ms/step - loss: 0.2823 - accuracy: 0.9441 - val_loss: 0.2718 - val_accuracy: 0.9478\n",
            "Epoch 5/10\n",
            "1688/1688 [==============================] - 5s 3ms/step - loss: 0.2569 - accuracy: 0.9478 - val_loss: 0.2259 - val_accuracy: 0.9568\n",
            "Epoch 6/10\n",
            "1688/1688 [==============================] - 6s 3ms/step - loss: 0.2255 - accuracy: 0.9532 - val_loss: 0.2434 - val_accuracy: 0.9555\n",
            "Epoch 7/10\n",
            "1688/1688 [==============================] - 5s 3ms/step - loss: 0.2301 - accuracy: 0.9539 - val_loss: 0.2260 - val_accuracy: 0.9618\n",
            "Epoch 8/10\n",
            "1688/1688 [==============================] - 5s 3ms/step - loss: 0.2086 - accuracy: 0.9581 - val_loss: 0.2604 - val_accuracy: 0.9547\n",
            "Epoch 9/10\n",
            "1688/1688 [==============================] - 6s 3ms/step - loss: 0.2030 - accuracy: 0.9598 - val_loss: 0.2258 - val_accuracy: 0.9628\n",
            "Epoch 10/10\n",
            "1688/1688 [==============================] - 5s 3ms/step - loss: 0.1792 - accuracy: 0.9637 - val_loss: 0.2408 - val_accuracy: 0.9550\n"
          ]
        }
      ]
    },
    {
      "cell_type": "code",
      "source": [
        "def accuracy(history):\n",
        "  plt.plot(history.history['accuracy'])\n",
        "  plt.plot(history.history['val_accuracy'])\n",
        "  plt.title(\" Accuracy \")\n",
        "  plt.xlabel('Epochs')\n",
        "  plt.ylabel(\"Accuracy\")\n",
        "  plt.legend(['Train',\"Test\"])\n",
        "  plt.show()\n",
        "\n",
        "def loss_plot(history):\n",
        "  plt.plot(history.history['loss'])\n",
        "  plt.plot(history.history['val_loss'])\n",
        "  plt.title(\" Loss \")\n",
        "  plt.ylabel(\"Loss\")\n",
        "  plt.xlabel(\"Epochs\")\n",
        "  plt.legend(['Train','Test'],loc='best')\n",
        "  plt.show()\n"
      ],
      "metadata": {
        "id": "Ky-5gZTzFFuc"
      },
      "execution_count": null,
      "outputs": []
    },
    {
      "cell_type": "code",
      "source": [
        "a = range(10,100,10)\n",
        "a"
      ],
      "metadata": {
        "id": "viBZvynkNtGU",
        "outputId": "f59093ee-d575-4afa-f5d6-6e462cf638fd",
        "colab": {
          "base_uri": "https://localhost:8080/"
        }
      },
      "execution_count": null,
      "outputs": [
        {
          "output_type": "execute_result",
          "data": {
            "text/plain": [
              "range(10, 100, 10)"
            ]
          },
          "metadata": {},
          "execution_count": 14
        }
      ]
    },
    {
      "cell_type": "code",
      "source": [
        "accuracy(history_nodes)"
      ],
      "metadata": {
        "colab": {
          "base_uri": "https://localhost:8080/",
          "height": 472
        },
        "id": "-Umpxw1-FFxU",
        "outputId": "dbcf2942-b65b-4cf9-f67a-97f4fa33b52f"
      },
      "execution_count": null,
      "outputs": [
        {
          "output_type": "display_data",
          "data": {
            "text/plain": [
              "<Figure size 640x480 with 1 Axes>"
            ],
            "image/png": "[encoded data removed]"
          },
          "metadata": {}
        }
      ]
    },
    {
      "cell_type": "code",
      "source": [
        "loss_plot(history_nodes)"
      ],
      "metadata": {
        "colab": {
          "base_uri": "https://localhost:8080/",
          "height": 472
        },
        "id": "K1tRCgmKL9Rz",
        "outputId": "fdfef368-6d3e-42ad-a2f9-7979fd4635ee"
      },
      "execution_count": null,
      "outputs": [
        {
          "output_type": "display_data",
          "data": {
            "text/plain": [
              "<Figure size 640x480 with 1 Axes>"
            ],
            "image/png": "[encoded data removed]"
          },
          "metadata": {}
        }
      ]
    },
    {
      "cell_type": "markdown",
      "source": [
        "# Exploration"
      ],
      "metadata": {
        "id": "iqL_LzpoLuxM"
      }
    },
    {
      "cell_type": "code",
      "source": [
        "# single hidden layer with 32 nodes\n",
        "# 10 epochs"
      ],
      "metadata": {
        "id": "G5ZuqdapCJrz"
      },
      "execution_count": null,
      "outputs": []
    },
    {
      "cell_type": "code",
      "source": [
        "from kerastuner.engine.hyperparameters import HyperParameters"
      ],
      "metadata": {
        "id": "KZO7Zio-HLMG"
      },
      "execution_count": null,
      "outputs": []
    },
    {
      "cell_type": "code",
      "source": [
        "hp = HyperParameters()\n",
        "hp.Int('hidden_size',\n",
        "       min_value = 2,\n",
        "       max_value = 2056,\n",
        "       step = 2,\n",
        "       sampling = 'log')"
      ],
      "metadata": {
        "colab": {
          "base_uri": "https://localhost:8080/"
        },
        "id": "Comxd5BfF79P",
        "outputId": "90dd8e2a-e43f-41e2-b631-bc4029099d97"
      },
      "execution_count": null,
      "outputs": [
        {
          "output_type": "execute_result",
          "data": {
            "text/plain": [
              "2"
            ]
          },
          "metadata": {},
          "execution_count": 19
        }
      ]
    },
    {
      "cell_type": "code",
      "source": [
        "def build_model(hp):\n",
        "  model = tf.keras.Sequential()\n",
        "  model.add(layers.Flatten(input_shape=(28,28)))\n",
        "\n",
        "  # defining hyperparameters for number of nodes in hidden layer\n",
        "  model.add(layers.Dense(hp.Int('hidden_size',\n",
        "                                min_value = 2,\n",
        "                                max_value = 2056,\n",
        "                                step = 2,\n",
        "                                sampling = 'log'),\n",
        "                         activation = 'relu'))\n",
        "\n",
        "  model.add(layers.Dense(10,activation = 'softmax'))\n",
        "\n",
        "  model.compile(optimizer = 'adam',\n",
        "                loss = 'sparse_categorical_crossentropy',\n",
        "                metrics = ['accuracy'])\n",
        "  return model"
      ],
      "metadata": {
        "id": "EZPDt9pbFFz8"
      },
      "execution_count": null,
      "outputs": []
    },
    {
      "cell_type": "code",
      "source": [
        "tuner = RandomSearch(\n",
        "    build_model,\n",
        "    objective = 'val_accuracy',\n",
        "    max_trials = 5\n",
        ")"
      ],
      "metadata": {
        "id": "MhjzCKfgFF2u"
      },
      "execution_count": null,
      "outputs": []
    },
    {
      "cell_type": "code",
      "source": [
        "tuner.search(x_train,y_train,epochs = 10,validation_split = 0.10)"
      ],
      "metadata": {
        "colab": {
          "base_uri": "https://localhost:8080/"
        },
        "id": "d8_GckOcFF5m",
        "outputId": "cc0656c5-d0f1-41a6-c05d-bfb6f87db8e6"
      },
      "execution_count": null,
      "outputs": [
        {
          "output_type": "stream",
          "name": "stdout",
          "text": [
            "Trial 5 Complete [00h 00m 57s]\n",
            "val_accuracy: 0.8678333163261414\n",
            "\n",
            "Best val_accuracy So Far: 0.9608333110809326\n",
            "Total elapsed time: 00h 05m 33s\n"
          ]
        }
      ]
    },
    {
      "cell_type": "markdown",
      "source": [
        "# 2.NUMBER OF LAYERS"
      ],
      "metadata": {
        "id": "sOBn2asbRMnD"
      }
    },
    {
      "cell_type": "code",
      "source": [
        "hp_layer = HyperParameters()"
      ],
      "metadata": {
        "id": "yp_z1c0lTTC6"
      },
      "execution_count": null,
      "outputs": []
    },
    {
      "cell_type": "code",
      "source": [
        "def build_model2(hp_layer):\n",
        "  model_layers = tf.keras.Sequential()\n",
        "  model_layers.add(layers.Flatten(input_shape=(28,28)))\n",
        "\n",
        "  # defining hyperparameters for number of  hidden layers\n",
        "  for i in range(hp_layer.Int('num_layers',\n",
        "                         min_value = 2,\n",
        "                         max_value = 16,\n",
        "                         step = 2)):\n",
        "    model_layers.add(keras.layers.Dense(32,activation = 'relu'))\n",
        "\n",
        "\n",
        "  model_layers.add(layers.Dense(10,activation = 'softmax'))\n",
        "\n",
        "  model_layers.compile(optimizer = 'adam',\n",
        "                loss = 'sparse_categorical_crossentropy',\n",
        "                metrics = ['accuracy'])\n",
        "  return model_layers"
      ],
      "metadata": {
        "id": "CQ2kDcrBFF8e"
      },
      "execution_count": null,
      "outputs": []
    },
    {
      "cell_type": "code",
      "source": [],
      "metadata": {
        "id": "Xg0p7YlHVbFZ"
      },
      "execution_count": null,
      "outputs": []
    },
    {
      "cell_type": "code",
      "source": [
        "tuner_2 = Hyperband(\n",
        "    build_model2,\n",
        "    objective='val_accuracy',\n",
        "    factor=3,\n",
        "    overwrite=True)"
      ],
      "metadata": {
        "id": "CEG9lpa-VM05"
      },
      "execution_count": null,
      "outputs": []
    },
    {
      "cell_type": "code",
      "source": [
        "tuner_2.search(x_train,y_train,epochs = 10,validation_split = 0.10)"
      ],
      "metadata": {
        "id": "Bb-B7a7sPwz6",
        "outputId": "dc76748d-e85c-4247-b6a5-36427674077b",
        "colab": {
          "base_uri": "https://localhost:8080/"
        }
      },
      "execution_count": null,
      "outputs": [
        {
          "output_type": "stream",
          "name": "stdout",
          "text": [
            "Trial 8 Complete [00h 00m 22s]\n",
            "val_accuracy: 0.9474999904632568\n",
            "\n",
            "Best val_accuracy So Far: 0.953166663646698\n",
            "Total elapsed time: 00h 03m 37s\n"
          ]
        }
      ]
    },
    {
      "cell_type": "code",
      "source": [
        "best_hps = tuner_2.get_best_hyperparameters(num_trials=1)[0]\n",
        "model2 = tuner_2.hypermodel.build(best_hps)"
      ],
      "metadata": {
        "id": "DhpqVHLKwbYN"
      },
      "execution_count": null,
      "outputs": []
    },
    {
      "cell_type": "code",
      "source": [
        "model2"
      ],
      "metadata": {
        "colab": {
          "base_uri": "https://localhost:8080/"
        },
        "id": "zy8nevLuwbXR",
        "outputId": "48450ed1-1e31-40b2-8550-e80d81739e58"
      },
      "execution_count": null,
      "outputs": [
        {
          "output_type": "execute_result",
          "data": {
            "text/plain": [
              "<keras.engine.sequential.Sequential at 0x79acf075f1c0>"
            ]
          },
          "metadata": {},
          "execution_count": 30
        }
      ]
    },
    {
      "cell_type": "code",
      "source": [
        "tuner_results_layers = tuner_2.results_summary()"
      ],
      "metadata": {
        "colab": {
          "base_uri": "https://localhost:8080/"
        },
        "id": "j9Zc3KrbwbR_",
        "outputId": "7c7fd2f7-b43b-4669-efc9-bedb65adf049"
      },
      "execution_count": null,
      "outputs": [
        {
          "output_type": "stream",
          "name": "stdout",
          "text": [
            "Results summary\n",
            "Results in ./untitled_project\n",
            "Showing 10 best trials\n",
            "Objective(name=\"val_accuracy\", direction=\"max\")\n",
            "\n",
            "Trial 0002 summary\n",
            "Hyperparameters:\n",
            "num_layers: 8\n",
            "tuner/epochs: 2\n",
            "tuner/initial_epoch: 0\n",
            "tuner/bracket: 4\n",
            "tuner/round: 0\n",
            "Score: 0.953166663646698\n",
            "\n",
            "Trial 0001 summary\n",
            "Hyperparameters:\n",
            "num_layers: 14\n",
            "tuner/epochs: 2\n",
            "tuner/initial_epoch: 0\n",
            "tuner/bracket: 4\n",
            "tuner/round: 0\n",
            "Score: 0.9505000114440918\n",
            "\n",
            "Trial 0007 summary\n",
            "Hyperparameters:\n",
            "num_layers: 6\n",
            "tuner/epochs: 2\n",
            "tuner/initial_epoch: 0\n",
            "tuner/bracket: 4\n",
            "tuner/round: 0\n",
            "Score: 0.9474999904632568\n",
            "\n",
            "Trial 0004 summary\n",
            "Hyperparameters:\n",
            "num_layers: 12\n",
            "tuner/epochs: 2\n",
            "tuner/initial_epoch: 0\n",
            "tuner/bracket: 4\n",
            "tuner/round: 0\n",
            "Score: 0.9451666474342346\n",
            "\n",
            "Trial 0000 summary\n",
            "Hyperparameters:\n",
            "num_layers: 16\n",
            "tuner/epochs: 2\n",
            "tuner/initial_epoch: 0\n",
            "tuner/bracket: 4\n",
            "tuner/round: 0\n",
            "Score: 0.9448333382606506\n",
            "\n",
            "Trial 0006 summary\n",
            "Hyperparameters:\n",
            "num_layers: 10\n",
            "tuner/epochs: 2\n",
            "tuner/initial_epoch: 0\n",
            "tuner/bracket: 4\n",
            "tuner/round: 0\n",
            "Score: 0.9433333277702332\n",
            "\n",
            "Trial 0005 summary\n",
            "Hyperparameters:\n",
            "num_layers: 4\n",
            "tuner/epochs: 2\n",
            "tuner/initial_epoch: 0\n",
            "tuner/bracket: 4\n",
            "tuner/round: 0\n",
            "Score: 0.9401666522026062\n",
            "\n",
            "Trial 0003 summary\n",
            "Hyperparameters:\n",
            "num_layers: 2\n",
            "tuner/epochs: 2\n",
            "tuner/initial_epoch: 0\n",
            "tuner/bracket: 4\n",
            "tuner/round: 0\n",
            "Score: 0.887666642665863\n"
          ]
        }
      ]
    },
    {
      "cell_type": "markdown",
      "source": [
        "# Activation Function"
      ],
      "metadata": {
        "id": "QnhtoZ0-v57-"
      }
    },
    {
      "cell_type": "code",
      "source": [
        "def build_model_act(act):\n",
        "  model_act = tf.keras.Sequential()\n",
        "  model_act.add(layers.Flatten(input_shape=(28,28)))\n",
        "\n",
        "  model_act.add(keras.layers.Dense(32,activation = act.Choice(\"activation\",\n",
        "                                                    ['relu','tanh','sigmoid'])))\n",
        "  model_act.add(keras.layers.Dense(32,activation = act.Choice(\"activation\",\n",
        "                                                    ['relu','tanh','sigmoid'])))\n",
        "  model_act.add(keras.layers.Dense(32,activation = act.Choice(\"activation\",\n",
        "                                                    ['relu','tanh','sigmoid'])))\n",
        "\n",
        "\n",
        "  model_act.compile(optimizer = 'adam',\n",
        "                loss = 'sparse_categorical_crossentropy',\n",
        "                metrics = ['accuracy'])\n",
        "  return model_act"
      ],
      "metadata": {
        "id": "qbNOnjZMPkXi"
      },
      "execution_count": null,
      "outputs": []
    },
    {
      "cell_type": "code",
      "source": [
        "build_model_act(keras_tuner.HyperParameters())"
      ],
      "metadata": {
        "id": "2atkxRsmPkZ1",
        "colab": {
          "base_uri": "https://localhost:8080/"
        },
        "outputId": "5c89599a-07f0-42dc-cb94-1e594d35f787"
      },
      "execution_count": null,
      "outputs": [
        {
          "output_type": "execute_result",
          "data": {
            "text/plain": [
              "<keras.engine.sequential.Sequential at 0x79ad40195690>"
            ]
          },
          "metadata": {},
          "execution_count": 37
        }
      ]
    },
    {
      "cell_type": "code",
      "source": [
        "tuner_3 = Hyperband(\n",
        "    build_model_act,\n",
        "    objective='val_accuracy',\n",
        "    overwrite=True)"
      ],
      "metadata": {
        "id": "MFxlyZcNPkdC"
      },
      "execution_count": null,
      "outputs": []
    },
    {
      "cell_type": "code",
      "source": [
        "tuner_3.search(x_train,y_train,epochs = 10,validation_split = 0.10)"
      ],
      "metadata": {
        "id": "KR85ErmXPkgW",
        "colab": {
          "base_uri": "https://localhost:8080/"
        },
        "outputId": "f0b7d8b9-c3d4-49a7-e458-6f2f921d0be2"
      },
      "execution_count": null,
      "outputs": [
        {
          "output_type": "stream",
          "name": "stdout",
          "text": [
            "Trial 3 Complete [00h 00m 21s]\n",
            "val_accuracy: 0.19699999690055847\n",
            "\n",
            "Best val_accuracy So Far: 0.8666666746139526\n",
            "Total elapsed time: 00h 00m 57s\n"
          ]
        }
      ]
    },
    {
      "cell_type": "code",
      "source": [
        "best_hps = tuner_3.get_best_hyperparameters(num_trials=1)[0]\n",
        "model_3 = tuner_3.hypermodel.build(best_hps)"
      ],
      "metadata": {
        "id": "5vhcFAkwFGCE"
      },
      "execution_count": null,
      "outputs": []
    },
    {
      "cell_type": "code",
      "source": [
        "tuner_results_act = tuner_3.results_summary()"
      ],
      "metadata": {
        "id": "x7Gq1G_GFGFc",
        "colab": {
          "base_uri": "https://localhost:8080/"
        },
        "outputId": "2baf7ac1-5b6e-49a0-f07a-03849a966b54"
      },
      "execution_count": null,
      "outputs": [
        {
          "output_type": "stream",
          "name": "stdout",
          "text": [
            "Results summary\n",
            "Results in ./untitled_project\n",
            "Showing 10 best trials\n",
            "Objective(name=\"val_accuracy\", direction=\"max\")\n",
            "\n",
            "Trial 0001 summary\n",
            "Hyperparameters:\n",
            "activation: sigmoid\n",
            "tuner/epochs: 2\n",
            "tuner/initial_epoch: 0\n",
            "tuner/bracket: 4\n",
            "tuner/round: 0\n",
            "Score: 0.8666666746139526\n",
            "\n",
            "Trial 0000 summary\n",
            "Hyperparameters:\n",
            "activation: tanh\n",
            "tuner/epochs: 2\n",
            "tuner/initial_epoch: 0\n",
            "tuner/bracket: 4\n",
            "tuner/round: 0\n",
            "Score: 0.6621666550636292\n",
            "\n",
            "Trial 0002 summary\n",
            "Hyperparameters:\n",
            "activation: relu\n",
            "tuner/epochs: 2\n",
            "tuner/initial_epoch: 0\n",
            "tuner/bracket: 4\n",
            "tuner/round: 0\n",
            "Score: 0.19699999690055847\n"
          ]
        }
      ]
    },
    {
      "cell_type": "markdown",
      "source": [
        "# Activation Function Combination"
      ],
      "metadata": {
        "id": "EVp8W2Jz5Pfx"
      }
    },
    {
      "cell_type": "code",
      "source": [
        "model_act_2 = tf.keras.Sequential()\n",
        "model_act_2.add(layers.Flatten(input_shape=(28,28)))\n",
        "\n",
        "model_act_2.add(keras.layers.Dense(32,activation = 'sigmoid'))\n",
        "model_act_2.add(keras.layers.Dense(32,activation = 'relu'))\n",
        "model_act_2.add(keras.layers.Dense(32,activation = 'tanh'))\n",
        "\n",
        "\n",
        "\n",
        "model_act_2.compile(optimizer = 'adam',\n",
        "              loss = 'sparse_categorical_crossentropy',\n",
        "              metrics = ['accuracy'])\n"
      ],
      "metadata": {
        "id": "WX_mR8Fw0noz"
      },
      "execution_count": null,
      "outputs": []
    },
    {
      "cell_type": "code",
      "source": [
        "history_act_2 = model_act_2.fit(x_train,y_train,epochs = 10,validation_split = 0.10)"
      ],
      "metadata": {
        "colab": {
          "base_uri": "https://localhost:8080/"
        },
        "id": "yj3U6M3Y0nsh",
        "outputId": "5329cc44-ffc5-4f57-f436-7e84e73d7368"
      },
      "execution_count": null,
      "outputs": [
        {
          "output_type": "stream",
          "name": "stdout",
          "text": [
            "Epoch 1/10\n",
            "1688/1688 [==============================] - 8s 4ms/step - loss: 3.3701 - accuracy: 0.1750 - val_loss: 3.4670 - val_accuracy: 0.0488\n",
            "Epoch 2/10\n",
            "1688/1688 [==============================] - 6s 4ms/step - loss: 3.4653 - accuracy: 0.0512 - val_loss: 3.4670 - val_accuracy: 0.0488\n",
            "Epoch 3/10\n",
            "1688/1688 [==============================] - 9s 5ms/step - loss: 3.4653 - accuracy: 0.0507 - val_loss: 3.4670 - val_accuracy: 0.0478\n",
            "Epoch 4/10\n",
            "1688/1688 [==============================] - 7s 4ms/step - loss: 3.4654 - accuracy: 0.0505 - val_loss: 3.4670 - val_accuracy: 0.0478\n",
            "Epoch 5/10\n",
            "1688/1688 [==============================] - 10s 6ms/step - loss: 3.4654 - accuracy: 0.0505 - val_loss: 3.4670 - val_accuracy: 0.0478\n",
            "Epoch 6/10\n",
            "1688/1688 [==============================] - 9s 5ms/step - loss: 3.4654 - accuracy: 0.0511 - val_loss: 3.4670 - val_accuracy: 0.0533\n",
            "Epoch 7/10\n",
            "1688/1688 [==============================] - 8s 5ms/step - loss: 3.4654 - accuracy: 0.0570 - val_loss: 3.4670 - val_accuracy: 0.0533\n",
            "Epoch 8/10\n",
            "1688/1688 [==============================] - 6s 3ms/step - loss: 3.4654 - accuracy: 0.0571 - val_loss: 3.4670 - val_accuracy: 0.0535\n",
            "Epoch 9/10\n",
            "1688/1688 [==============================] - 6s 4ms/step - loss: 3.4654 - accuracy: 0.0574 - val_loss: 3.4670 - val_accuracy: 0.0538\n",
            "Epoch 10/10\n",
            "1688/1688 [==============================] - 5s 3ms/step - loss: 3.4654 - accuracy: 0.0583 - val_loss: 3.4670 - val_accuracy: 0.0540\n"
          ]
        }
      ]
    },
    {
      "cell_type": "code",
      "source": [
        "accuracy(history_act_2)"
      ],
      "metadata": {
        "colab": {
          "base_uri": "https://localhost:8080/",
          "height": 472
        },
        "id": "5bPeOAce5yRJ",
        "outputId": "1a46e943-10ea-41b9-bb9e-6d679a1d3587"
      },
      "execution_count": null,
      "outputs": [
        {
          "output_type": "display_data",
          "data": {
            "text/plain": [
              "<Figure size 640x480 with 1 Axes>"
            ],
            "image/png": "[encoded data removed]"
          },
          "metadata": {}
        }
      ]
    },
    {
      "cell_type": "code",
      "source": [
        "loss_plot(history_act_2)"
      ],
      "metadata": {
        "colab": {
          "base_uri": "https://localhost:8080/",
          "height": 472
        },
        "id": "hVyC6x5K0nvt",
        "outputId": "68305d1c-4599-4c57-fe16-5e4589f90194"
      },
      "execution_count": null,
      "outputs": [
        {
          "output_type": "display_data",
          "data": {
            "text/plain": [
              "<Figure size 640x480 with 1 Axes>"
            ],
            "image/png": "[encoded data removed]"
          },
          "metadata": {}
        }
      ]
    },
    {
      "cell_type": "markdown",
      "source": [
        "**As we can clearly see the combinations of using sigmoid in layer 1  reluin layer 2 and tan hyperbolic in layer 3 is not at all giving the best accurate model it doesnt tried to capture the basic pattern in the data**\n",
        "\n",
        "**it seems it may not be the  optimal one for training**"
      ],
      "metadata": {
        "id": "2j5puKUl6evG"
      }
    },
    {
      "cell_type": "code",
      "source": [
        "def build_model_act_layer(act_layer):\n",
        "  model_layers_act = tf.keras.Sequential()\n",
        "  model_layers_act.add(layers.Flatten(input_shape=(28,28)))\n",
        "\n",
        "  # defining hyperparameters for number of  hidden layers\n",
        "  for i in range(act_layer.Int('num_layers',\n",
        "                         min_value = 2,\n",
        "                         max_value = 16,\n",
        "                         step = 2)):\n",
        "    model_layers_act.add(keras.layers.Dense(32,activation = act_layer.Choice(\"activation\",['relu','tanh','sigmoid'])))\n",
        "\n",
        "\n",
        "  model_layers_act.add(layers.Dense(10,activation = 'softmax'))\n",
        "\n",
        "  model_layers_act.compile(optimizer = 'adam',\n",
        "                loss = 'sparse_categorical_crossentropy',\n",
        "                metrics = ['accuracy'])\n",
        "  return model_layers_act"
      ],
      "metadata": {
        "id": "o7gpR3780n0R"
      },
      "execution_count": null,
      "outputs": []
    },
    {
      "cell_type": "code",
      "source": [
        "build_model_act_layer(keras_tuner.HyperParameters())"
      ],
      "metadata": {
        "colab": {
          "base_uri": "https://localhost:8080/"
        },
        "id": "lpL9Gl2t1Wk3",
        "outputId": "82983197-41b2-48ea-9062-96dfda81ee18"
      },
      "execution_count": null,
      "outputs": [
        {
          "output_type": "execute_result",
          "data": {
            "text/plain": [
              "<keras.engine.sequential.Sequential at 0x79acaea9efe0>"
            ]
          },
          "metadata": {},
          "execution_count": 49
        }
      ]
    },
    {
      "cell_type": "code",
      "source": [
        "tuner_4 = Hyperband(\n",
        "    build_model_act_layer,\n",
        "    objective='val_accuracy',\n",
        "    overwrite=True)"
      ],
      "metadata": {
        "id": "AAmeo2iv1Wp2"
      },
      "execution_count": null,
      "outputs": []
    },
    {
      "cell_type": "code",
      "source": [
        "tuner_4.search(x_train,y_train,epochs = 10,validation_split = 0.10)"
      ],
      "metadata": {
        "colab": {
          "base_uri": "https://localhost:8080/"
        },
        "id": "WujgDguB0n7h",
        "outputId": "5052ab56-d8d3-4476-acc7-2f4556f4b006"
      },
      "execution_count": null,
      "outputs": [
        {
          "output_type": "stream",
          "name": "stdout",
          "text": [
            "Trial 24 Complete [00h 00m 16s]\n",
            "val_accuracy: 0.9375\n",
            "\n",
            "Best val_accuracy So Far: 0.9578333497047424\n",
            "Total elapsed time: 00h 10m 51s\n"
          ]
        }
      ]
    },
    {
      "cell_type": "code",
      "source": [
        "best_hps_4 = tuner_4.get_best_hyperparameters(num_trials=1)[0]\n",
        "model_4 = tuner_4.hypermodel.build(best_hps_4)"
      ],
      "metadata": {
        "id": "o5xktojs0n-E"
      },
      "execution_count": null,
      "outputs": []
    },
    {
      "cell_type": "code",
      "source": [
        "tuner_results_act = tuner_4.results_summary()"
      ],
      "metadata": {
        "colab": {
          "base_uri": "https://localhost:8080/"
        },
        "id": "QQ_5dWC00oBz",
        "outputId": "b001684b-fa1f-4aba-9c2b-7a9a222c6f4b"
      },
      "execution_count": null,
      "outputs": [
        {
          "output_type": "stream",
          "name": "stdout",
          "text": [
            "Results summary\n",
            "Results in ./untitled_project\n",
            "Showing 10 best trials\n",
            "Objective(name=\"val_accuracy\", direction=\"max\")\n",
            "\n",
            "Trial 0019 summary\n",
            "Hyperparameters:\n",
            "num_layers: 14\n",
            "activation: relu\n",
            "tuner/epochs: 2\n",
            "tuner/initial_epoch: 0\n",
            "tuner/bracket: 4\n",
            "tuner/round: 0\n",
            "Score: 0.9578333497047424\n",
            "\n",
            "Trial 0021 summary\n",
            "Hyperparameters:\n",
            "num_layers: 10\n",
            "activation: relu\n",
            "tuner/epochs: 2\n",
            "tuner/initial_epoch: 0\n",
            "tuner/bracket: 4\n",
            "tuner/round: 0\n",
            "Score: 0.9546666741371155\n",
            "\n",
            "Trial 0010 summary\n",
            "Hyperparameters:\n",
            "num_layers: 12\n",
            "activation: relu\n",
            "tuner/epochs: 2\n",
            "tuner/initial_epoch: 0\n",
            "tuner/bracket: 4\n",
            "tuner/round: 0\n",
            "Score: 0.9518333077430725\n",
            "\n",
            "Trial 0002 summary\n",
            "Hyperparameters:\n",
            "num_layers: 8\n",
            "activation: relu\n",
            "tuner/epochs: 2\n",
            "tuner/initial_epoch: 0\n",
            "tuner/bracket: 4\n",
            "tuner/round: 0\n",
            "Score: 0.9449999928474426\n",
            "\n",
            "Trial 0023 summary\n",
            "Hyperparameters:\n",
            "num_layers: 4\n",
            "activation: relu\n",
            "tuner/epochs: 2\n",
            "tuner/initial_epoch: 0\n",
            "tuner/bracket: 4\n",
            "tuner/round: 0\n",
            "Score: 0.9375\n",
            "\n",
            "Trial 0009 summary\n",
            "Hyperparameters:\n",
            "num_layers: 6\n",
            "activation: relu\n",
            "tuner/epochs: 2\n",
            "tuner/initial_epoch: 0\n",
            "tuner/bracket: 4\n",
            "tuner/round: 0\n",
            "Score: 0.9365000128746033\n",
            "\n",
            "Trial 0011 summary\n",
            "Hyperparameters:\n",
            "num_layers: 16\n",
            "activation: relu\n",
            "tuner/epochs: 2\n",
            "tuner/initial_epoch: 0\n",
            "tuner/bracket: 4\n",
            "tuner/round: 0\n",
            "Score: 0.9333333373069763\n",
            "\n",
            "Trial 0017 summary\n",
            "Hyperparameters:\n",
            "num_layers: 2\n",
            "activation: relu\n",
            "tuner/epochs: 2\n",
            "tuner/initial_epoch: 0\n",
            "tuner/bracket: 4\n",
            "tuner/round: 0\n",
            "Score: 0.9128333330154419\n",
            "\n",
            "Trial 0007 summary\n",
            "Hyperparameters:\n",
            "num_layers: 2\n",
            "activation: sigmoid\n",
            "tuner/epochs: 2\n",
            "tuner/initial_epoch: 0\n",
            "tuner/bracket: 4\n",
            "tuner/round: 0\n",
            "Score: 0.8945000171661377\n",
            "\n",
            "Trial 0013 summary\n",
            "Hyperparameters:\n",
            "num_layers: 2\n",
            "activation: tanh\n",
            "tuner/epochs: 2\n",
            "tuner/initial_epoch: 0\n",
            "tuner/bracket: 4\n",
            "tuner/round: 0\n",
            "Score: 0.8421666622161865\n"
          ]
        }
      ]
    },
    {
      "cell_type": "markdown",
      "source": [
        "# Optimizer\n"
      ],
      "metadata": {
        "id": "ywPvkt00AGFn"
      }
    },
    {
      "cell_type": "code",
      "source": [
        "def build_model_optimizer(opt):\n",
        "  model_layers_opt = tf.keras.Sequential()\n",
        "  model_layers_opt.add(layers.Flatten(input_shape=(28,28)))\n",
        "\n",
        "  # defining hyperparameters for number of  hidden layers\n",
        "  model_layers_opt.add(keras.layers.Dense(32,activation = 'relu'))\n",
        "  model_layers_opt.add(keras.layers.Dense(32,activation = 'relu'))\n",
        "  model_layers_opt.add(keras.layers.Dense(32,activation = 'relu'))\n",
        "\n",
        "  model_layers_opt.add(layers.Dense(10,activation = 'softmax'))\n",
        "\n",
        "  model_layers_opt.compile(optimizer = opt.Choice('optimizer',['sgd','RMSprop','adam']),\n",
        "                loss = 'sparse_categorical_crossentropy',\n",
        "                metrics = ['accuracy'])\n",
        "  return model_layers_opt"
      ],
      "metadata": {
        "id": "xBrnCmEW_Cfz"
      },
      "execution_count": null,
      "outputs": []
    },
    {
      "cell_type": "code",
      "source": [
        "build_model_optimizer(keras_tuner.HyperParameters())"
      ],
      "metadata": {
        "colab": {
          "base_uri": "https://localhost:8080/"
        },
        "id": "9iJifmqM_b_T",
        "outputId": "a6aac1f4-1c0f-468a-e0e3-cfa50e784c61"
      },
      "execution_count": null,
      "outputs": [
        {
          "output_type": "execute_result",
          "data": {
            "text/plain": [
              "<keras.engine.sequential.Sequential at 0x79acf71940a0>"
            ]
          },
          "metadata": {},
          "execution_count": 55
        }
      ]
    },
    {
      "cell_type": "code",
      "source": [
        "tuner_6 = Hyperband(\n",
        "    build_model_optimizer,\n",
        "    objective='val_accuracy',\n",
        "    overwrite=True)"
      ],
      "metadata": {
        "id": "bMDA5qvY_Ccl"
      },
      "execution_count": null,
      "outputs": []
    },
    {
      "cell_type": "code",
      "source": [
        "tuner_6.search(x_train,y_train,epochs = 10,validation_split = 0.10)"
      ],
      "metadata": {
        "colab": {
          "base_uri": "https://localhost:8080/"
        },
        "id": "9L64O50t_CY-",
        "outputId": "babd0462-ceae-4cea-8a4d-22b071488530"
      },
      "execution_count": null,
      "outputs": [
        {
          "output_type": "stream",
          "name": "stdout",
          "text": [
            "Trial 3 Complete [00h 00m 21s]\n",
            "val_accuracy: 0.934499979019165\n",
            "\n",
            "Best val_accuracy So Far: 0.934499979019165\n",
            "Total elapsed time: 00h 00m 58s\n"
          ]
        }
      ]
    },
    {
      "cell_type": "code",
      "source": [
        "best_hps_6 = tuner_6.get_best_hyperparameters(num_trials=1)[0]\n",
        "model_6 = tuner_6.hypermodel.build(best_hps_6)"
      ],
      "metadata": {
        "id": "3VDQcJ9c_CVz"
      },
      "execution_count": null,
      "outputs": []
    },
    {
      "cell_type": "code",
      "source": [
        "tuner_results_opt = tuner_6.results_summary()"
      ],
      "metadata": {
        "colab": {
          "base_uri": "https://localhost:8080/"
        },
        "id": "Dab8sXkz_CR5",
        "outputId": "3a741e66-1e51-4d43-b73d-c07f301048e0"
      },
      "execution_count": null,
      "outputs": [
        {
          "output_type": "stream",
          "name": "stdout",
          "text": [
            "Results summary\n",
            "Results in ./untitled_project\n",
            "Showing 10 best trials\n",
            "Objective(name=\"val_accuracy\", direction=\"max\")\n",
            "\n",
            "Trial 0002 summary\n",
            "Hyperparameters:\n",
            "optimizer: RMSprop\n",
            "tuner/epochs: 2\n",
            "tuner/initial_epoch: 0\n",
            "tuner/bracket: 4\n",
            "tuner/round: 0\n",
            "Score: 0.934499979019165\n",
            "\n",
            "Trial 0000 summary\n",
            "Hyperparameters:\n",
            "optimizer: adam\n",
            "tuner/epochs: 2\n",
            "tuner/initial_epoch: 0\n",
            "tuner/bracket: 4\n",
            "tuner/round: 0\n",
            "Score: 0.9108333587646484\n",
            "\n",
            "Trial 0001 summary\n",
            "Hyperparameters:\n",
            "optimizer: sgd\n",
            "tuner/epochs: 2\n",
            "tuner/initial_epoch: 0\n",
            "tuner/bracket: 4\n",
            "tuner/round: 0\n",
            "Score: 0.10499999672174454\n"
          ]
        }
      ]
    },
    {
      "cell_type": "markdown",
      "source": [
        "# L1,L2 Regularization"
      ],
      "metadata": {
        "id": "ZgqbgNnPEEcF"
      }
    },
    {
      "cell_type": "code",
      "source": [
        "from keras.regularizers import l1,l2"
      ],
      "metadata": {
        "id": "7KO75TcUEcGW"
      },
      "execution_count": null,
      "outputs": []
    },
    {
      "cell_type": "markdown",
      "source": [
        "# L2 REGULARIZATION"
      ],
      "metadata": {
        "id": "PL7Q2G69Geqb"
      }
    },
    {
      "cell_type": "code",
      "source": [
        "def build_model_reg(reg):\n",
        "  model_layers_reg = tf.keras.Sequential()\n",
        "  model_layers_reg.add(layers.Flatten(input_shape=(28,28)))\n",
        "\n",
        "  # defining hyperparameters for number of  hidden layers\n",
        "  model_layers_reg.add(keras.layers.Dense(32,activation = 'relu',\n",
        "                                          kernel_regularizer=l2(reg.Choice(\n",
        "                                              'penalty',[0.01,0.001,0.1,0.05,0.005]\n",
        "                                          ))))\n",
        "  model_layers_reg.add(keras.layers.Dense(32,activation = 'relu',\n",
        "                                          kernel_regularizer=l2(reg.Choice(\n",
        "                                              'penalty',[0.01,0.001,0.1,0.05,0.005]\n",
        "                                          ))))\n",
        "  model_layers_reg.add(keras.layers.Dense(32,activation = 'relu',\n",
        "                                          kernel_regularizer=l2(reg.Choice(\n",
        "                                              'penalty',[0.01,0.001,0.1,0.05,0.005]\n",
        "                                          ))))\n",
        "\n",
        "  model_layers_reg.add(layers.Dense(10,activation = 'softmax'))\n",
        "\n",
        "  model_layers_reg.compile(optimizer = 'adam',\n",
        "                loss = 'sparse_categorical_crossentropy',\n",
        "                metrics = ['accuracy'])\n",
        "  return model_layers_reg"
      ],
      "metadata": {
        "id": "6gxCy4ql_CNz"
      },
      "execution_count": null,
      "outputs": []
    },
    {
      "cell_type": "code",
      "source": [
        "build_model_reg(keras_tuner.HyperParameters())"
      ],
      "metadata": {
        "colab": {
          "base_uri": "https://localhost:8080/"
        },
        "id": "nKAR6PZNDxet",
        "outputId": "52abce69-11a9-4176-d944-13425d9ac6dd"
      },
      "execution_count": null,
      "outputs": [
        {
          "output_type": "execute_result",
          "data": {
            "text/plain": [
              "<keras.engine.sequential.Sequential at 0x79ad55989990>"
            ]
          },
          "metadata": {},
          "execution_count": 62
        }
      ]
    },
    {
      "cell_type": "code",
      "source": [
        "tuner_7 = Hyperband(\n",
        "    build_model_reg,\n",
        "    objective='val_accuracy',\n",
        "    overwrite=True)\n"
      ],
      "metadata": {
        "id": "VqDhFgjkDxiF"
      },
      "execution_count": null,
      "outputs": []
    },
    {
      "cell_type": "code",
      "source": [
        "tuner_7.search(x_train,y_train,epochs = 10,validation_split = 0.10)"
      ],
      "metadata": {
        "colab": {
          "base_uri": "https://localhost:8080/"
        },
        "id": "GgGSrdMKDxkr",
        "outputId": "fe0b6d78-e3b8-4e2c-c616-106f28cb5746"
      },
      "execution_count": null,
      "outputs": [
        {
          "output_type": "stream",
          "name": "stdout",
          "text": [
            "Trial 5 Complete [00h 00m 18s]\n",
            "val_accuracy: 0.9256666898727417\n",
            "\n",
            "Best val_accuracy So Far: 0.9458333253860474\n",
            "Total elapsed time: 00h 01m 37s\n"
          ]
        }
      ]
    },
    {
      "cell_type": "code",
      "source": [
        "best_hps_7 = tuner_7.get_best_hyperparameters(num_trials=1)[0]\n",
        "model_7 = tuner_7.hypermodel.build(best_hps_7)"
      ],
      "metadata": {
        "id": "Z4da_CGODxqV"
      },
      "execution_count": null,
      "outputs": []
    },
    {
      "cell_type": "code",
      "source": [
        "tuner_results_act = tuner_7.results_summary()"
      ],
      "metadata": {
        "colab": {
          "base_uri": "https://localhost:8080/"
        },
        "id": "EVb_NY54_CKB",
        "outputId": "dab7697f-9713-4fa5-97c3-ec8730bb3421"
      },
      "execution_count": null,
      "outputs": [
        {
          "output_type": "stream",
          "name": "stdout",
          "text": [
            "Results summary\n",
            "Results in ./untitled_project\n",
            "Showing 10 best trials\n",
            "Objective(name=\"val_accuracy\", direction=\"max\")\n",
            "\n",
            "Trial 0002 summary\n",
            "Hyperparameters:\n",
            "penalty: 0.05\n",
            "tuner/epochs: 2\n",
            "tuner/initial_epoch: 0\n",
            "tuner/bracket: 4\n",
            "tuner/round: 0\n",
            "Score: 0.9458333253860474\n",
            "\n",
            "Trial 0001 summary\n",
            "Hyperparameters:\n",
            "penalty: 0.1\n",
            "tuner/epochs: 2\n",
            "tuner/initial_epoch: 0\n",
            "tuner/bracket: 4\n",
            "tuner/round: 0\n",
            "Score: 0.934333324432373\n",
            "\n",
            "Trial 0004 summary\n",
            "Hyperparameters:\n",
            "penalty: 0.01\n",
            "tuner/epochs: 2\n",
            "tuner/initial_epoch: 0\n",
            "tuner/bracket: 4\n",
            "tuner/round: 0\n",
            "Score: 0.9256666898727417\n",
            "\n",
            "Trial 0000 summary\n",
            "Hyperparameters:\n",
            "penalty: 0.005\n",
            "tuner/epochs: 2\n",
            "tuner/initial_epoch: 0\n",
            "tuner/bracket: 4\n",
            "tuner/round: 0\n",
            "Score: 0.9116666913032532\n",
            "\n",
            "Trial 0003 summary\n",
            "Hyperparameters:\n",
            "penalty: 0.001\n",
            "tuner/epochs: 2\n",
            "tuner/initial_epoch: 0\n",
            "tuner/bracket: 4\n",
            "tuner/round: 0\n",
            "Score: 0.9006666541099548\n"
          ]
        }
      ]
    },
    {
      "cell_type": "code",
      "source": [],
      "metadata": {
        "id": "ird1REXRCJuU"
      },
      "execution_count": null,
      "outputs": []
    },
    {
      "cell_type": "markdown",
      "source": [
        "# L1 REGULARIZATION"
      ],
      "metadata": {
        "id": "YbhXNARTGisg"
      }
    },
    {
      "cell_type": "code",
      "source": [
        "def build_model_reg_l1(reg_l1):\n",
        "  model_layers_reg_l1 = tf.keras.Sequential()\n",
        "  model_layers_reg_l1.add(layers.Flatten(input_shape=(28,28)))\n",
        "\n",
        "  # defining hyperparameters for number of  hidden layers\n",
        "  model_layers_reg_l1.add(keras.layers.Dense(32,activation = 'relu',\n",
        "                                          kernel_regularizer=l1(reg_l1.Choice(\n",
        "                                              'penalty',[0.01,0.001,0.1,0.05,0.005]\n",
        "                                          ))))\n",
        "  model_layers_reg_l1.add(keras.layers.Dense(32,activation = 'relu',\n",
        "                                          kernel_regularizer=l1(reg_l1.Choice(\n",
        "                                              'penalty',[0.01,0.001,0.1,0.05,0.005]\n",
        "                                          ))))\n",
        "  model_layers_reg_l1.add(keras.layers.Dense(32,activation = 'relu',\n",
        "                                          kernel_regularizer=l1(reg_l1.Choice(\n",
        "                                              'penalty',[0.01,0.001,0.1,0.05,0.005]\n",
        "                                          ))))\n",
        "\n",
        "  model_layers_reg_l1.add(layers.Dense(10,activation = 'softmax'))\n",
        "\n",
        "  model_layers_reg_l1.compile(optimizer = 'adam',\n",
        "                loss = 'sparse_categorical_crossentropy',\n",
        "                metrics = ['accuracy'])\n",
        "  return build_model_reg_l1"
      ],
      "metadata": {
        "id": "9x9WNBd6CJwy"
      },
      "execution_count": null,
      "outputs": []
    },
    {
      "cell_type": "code",
      "source": [
        "build_model_reg_l1(keras_tuner.HyperParameters())"
      ],
      "metadata": {
        "colab": {
          "base_uri": "https://localhost:8080/"
        },
        "id": "lJksUsQHGlRJ",
        "outputId": "382d6dd0-6378-4484-fa17-90a1394181a3"
      },
      "execution_count": null,
      "outputs": [
        {
          "output_type": "execute_result",
          "data": {
            "text/plain": [
              "<function __main__.build_model_reg_l1(reg_l1)>"
            ]
          },
          "metadata": {},
          "execution_count": 69
        }
      ]
    },
    {
      "cell_type": "code",
      "source": [
        "tuner_7_L1 = Hyperband(\n",
        "    build_model_act_layer,\n",
        "    objective='val_accuracy',\n",
        "    overwrite=True)"
      ],
      "metadata": {
        "id": "uo7XFYIQGlP7"
      },
      "execution_count": null,
      "outputs": []
    },
    {
      "cell_type": "code",
      "source": [
        "tuner_7_L1.search(x_train,y_train,epochs = 10,validation_split = 0.10)"
      ],
      "metadata": {
        "colab": {
          "base_uri": "https://localhost:8080/"
        },
        "id": "XrYrdmXCGlKs",
        "outputId": "dba31bf1-8a62-4902-a7b5-1c475203aeb2"
      },
      "execution_count": null,
      "outputs": [
        {
          "output_type": "stream",
          "name": "stdout",
          "text": [
            "Trial 24 Complete [00h 00m 27s]\n",
            "val_accuracy: 0.9483333230018616\n",
            "\n",
            "Best val_accuracy So Far: 0.9576666951179504\n",
            "Total elapsed time: 00h 10m 55s\n"
          ]
        }
      ]
    },
    {
      "cell_type": "code",
      "source": [
        "best_hps_7_L1= tuner_7_L1.get_best_hyperparameters(num_trials=1)[0]\n",
        "model_7_L1 = tuner_7_L1.hypermodel.build(best_hps_7_L1)"
      ],
      "metadata": {
        "id": "9NpmYa0sGlIO"
      },
      "execution_count": null,
      "outputs": []
    },
    {
      "cell_type": "code",
      "source": [
        "tuner_results_7_L1 = tuner_7_L1.results_summary()"
      ],
      "metadata": {
        "colab": {
          "base_uri": "https://localhost:8080/"
        },
        "id": "OW2waNMDGlFS",
        "outputId": "cab32f30-e7a2-444c-bdd0-8d6762e768b7"
      },
      "execution_count": null,
      "outputs": [
        {
          "output_type": "stream",
          "name": "stdout",
          "text": [
            "Results summary\n",
            "Results in ./untitled_project\n",
            "Showing 10 best trials\n",
            "Objective(name=\"val_accuracy\", direction=\"max\")\n",
            "\n",
            "Trial 0003 summary\n",
            "Hyperparameters:\n",
            "num_layers: 10\n",
            "activation: relu\n",
            "tuner/epochs: 2\n",
            "tuner/initial_epoch: 0\n",
            "tuner/bracket: 4\n",
            "tuner/round: 0\n",
            "Score: 0.9576666951179504\n",
            "\n",
            "Trial 0010 summary\n",
            "Hyperparameters:\n",
            "num_layers: 12\n",
            "activation: relu\n",
            "tuner/epochs: 2\n",
            "tuner/initial_epoch: 0\n",
            "tuner/bracket: 4\n",
            "tuner/round: 0\n",
            "Score: 0.9538333415985107\n",
            "\n",
            "Trial 0020 summary\n",
            "Hyperparameters:\n",
            "num_layers: 8\n",
            "activation: relu\n",
            "tuner/epochs: 2\n",
            "tuner/initial_epoch: 0\n",
            "tuner/bracket: 4\n",
            "tuner/round: 0\n",
            "Score: 0.9484999775886536\n",
            "\n",
            "Trial 0023 summary\n",
            "Hyperparameters:\n",
            "num_layers: 14\n",
            "activation: relu\n",
            "tuner/epochs: 2\n",
            "tuner/initial_epoch: 0\n",
            "tuner/bracket: 4\n",
            "tuner/round: 0\n",
            "Score: 0.9483333230018616\n",
            "\n",
            "Trial 0016 summary\n",
            "Hyperparameters:\n",
            "num_layers: 16\n",
            "activation: relu\n",
            "tuner/epochs: 2\n",
            "tuner/initial_epoch: 0\n",
            "tuner/bracket: 4\n",
            "tuner/round: 0\n",
            "Score: 0.9426666498184204\n",
            "\n",
            "Trial 0005 summary\n",
            "Hyperparameters:\n",
            "num_layers: 4\n",
            "activation: relu\n",
            "tuner/epochs: 2\n",
            "tuner/initial_epoch: 0\n",
            "tuner/bracket: 4\n",
            "tuner/round: 0\n",
            "Score: 0.9403333067893982\n",
            "\n",
            "Trial 0001 summary\n",
            "Hyperparameters:\n",
            "num_layers: 6\n",
            "activation: relu\n",
            "tuner/epochs: 2\n",
            "tuner/initial_epoch: 0\n",
            "tuner/bracket: 4\n",
            "tuner/round: 0\n",
            "Score: 0.9304999709129333\n",
            "\n",
            "Trial 0007 summary\n",
            "Hyperparameters:\n",
            "num_layers: 2\n",
            "activation: relu\n",
            "tuner/epochs: 2\n",
            "tuner/initial_epoch: 0\n",
            "tuner/bracket: 4\n",
            "tuner/round: 0\n",
            "Score: 0.918833315372467\n",
            "\n",
            "Trial 0004 summary\n",
            "Hyperparameters:\n",
            "num_layers: 2\n",
            "activation: sigmoid\n",
            "tuner/epochs: 2\n",
            "tuner/initial_epoch: 0\n",
            "tuner/bracket: 4\n",
            "tuner/round: 0\n",
            "Score: 0.8871666789054871\n",
            "\n",
            "Trial 0019 summary\n",
            "Hyperparameters:\n",
            "num_layers: 2\n",
            "activation: tanh\n",
            "tuner/epochs: 2\n",
            "tuner/initial_epoch: 0\n",
            "tuner/bracket: 4\n",
            "tuner/round: 0\n",
            "Score: 0.8568333387374878\n"
          ]
        }
      ]
    },
    {
      "cell_type": "markdown",
      "source": [
        "# Dropout Regularization"
      ],
      "metadata": {
        "id": "e8Pbo92ANTuu"
      }
    },
    {
      "cell_type": "code",
      "source": [
        "def build_model_drop(drop):\n",
        "  model_layers_drop = tf.keras.Sequential()\n",
        "  model_layers_drop.add(layers.Flatten(input_shape=(28,28)))\n",
        "  for i in range(drop.Int('num_layers', 1, 4)):\n",
        "        model_layers_drop.add(layers.Dense(128,activation='relu'))\n",
        "        model_layers_drop.add(layers.Dropout(rate=drop.Float('dropout_' + str(i), 0.2, 0.5, 0.1)))\n",
        "\n",
        "  model_layers_drop.add(layers.Dense(10,activation = 'softmax'))\n",
        "\n",
        "  model_layers_drop.compile(optimizer = 'adam',\n",
        "                loss = 'sparse_categorical_crossentropy',\n",
        "                metrics = ['accuracy'])\n",
        "  return model_layers_drop"
      ],
      "metadata": {
        "id": "RAelhpHnGlCJ"
      },
      "execution_count": null,
      "outputs": []
    },
    {
      "cell_type": "code",
      "source": [
        "build_model_drop(keras_tuner.HyperParameters())"
      ],
      "metadata": {
        "colab": {
          "base_uri": "https://localhost:8080/"
        },
        "id": "iF5cQNAdOsAb",
        "outputId": "b87c3741-29f6-410f-8569-4d89631dd000"
      },
      "execution_count": null,
      "outputs": [
        {
          "output_type": "execute_result",
          "data": {
            "text/plain": [
              "<keras.engine.sequential.Sequential at 0x7e1610105f30>"
            ]
          },
          "metadata": {},
          "execution_count": 11
        }
      ]
    },
    {
      "cell_type": "code",
      "source": [
        "tuner_8 = Hyperband(\n",
        "    build_model_drop,\n",
        "    objective='val_accuracy',\n",
        "    overwrite=True)\n"
      ],
      "metadata": {
        "id": "bM3xMbW8Iemt"
      },
      "execution_count": null,
      "outputs": []
    },
    {
      "cell_type": "code",
      "source": [
        "tuner_8.search(x_train,y_train,epochs = 10,validation_split = 0.10)"
      ],
      "metadata": {
        "id": "swhXLViEIesc"
      },
      "execution_count": null,
      "outputs": []
    },
    {
      "cell_type": "code",
      "source": [
        "best_hps_8 = tuner_8.get_best_hyperparameters(num_trials=1)[0]\n",
        "model_8 = tuner_8.hypermodel.build(best_hps_8)"
      ],
      "metadata": {
        "id": "SZZysOBWIevS"
      },
      "execution_count": null,
      "outputs": []
    },
    {
      "cell_type": "code",
      "source": [
        "tuner_results_drop = tuner_8.results_summary()"
      ],
      "metadata": {
        "id": "6o2RZyKVIey5",
        "colab": {
          "base_uri": "https://localhost:8080/"
        },
        "outputId": "c6bffc51-33ca-49b4-92a8-7b677d02d137"
      },
      "execution_count": null,
      "outputs": [
        {
          "output_type": "stream",
          "name": "stdout",
          "text": [
            "Results summary\n",
            "Results in ./untitled_project\n",
            "Showing 10 best trials\n",
            "Objective(name=\"val_accuracy\", direction=\"max\")\n",
            "\n",
            "Trial 0036 summary\n",
            "Hyperparameters:\n",
            "num_layers: 3\n",
            "dropout_0: 0.2\n",
            "dropout_1: 0.2\n",
            "dropout_2: 0.4\n",
            "dropout_3: 0.2\n",
            "tuner/epochs: 2\n",
            "tuner/initial_epoch: 0\n",
            "tuner/bracket: 4\n",
            "tuner/round: 0\n",
            "Score: 0.9308333396911621\n",
            "\n",
            "Trial 0061 summary\n",
            "Hyperparameters:\n",
            "num_layers: 3\n",
            "dropout_0: 0.30000000000000004\n",
            "dropout_1: 0.2\n",
            "dropout_2: 0.30000000000000004\n",
            "dropout_3: 0.2\n",
            "tuner/epochs: 2\n",
            "tuner/initial_epoch: 0\n",
            "tuner/bracket: 4\n",
            "tuner/round: 0\n",
            "Score: 0.9308333396911621\n",
            "\n",
            "Trial 0021 summary\n",
            "Hyperparameters:\n",
            "num_layers: 3\n",
            "dropout_0: 0.30000000000000004\n",
            "dropout_1: 0.2\n",
            "dropout_2: 0.2\n",
            "dropout_3: 0.30000000000000004\n",
            "tuner/epochs: 2\n",
            "tuner/initial_epoch: 0\n",
            "tuner/bracket: 4\n",
            "tuner/round: 0\n",
            "Score: 0.9296666383743286\n",
            "\n",
            "Trial 0041 summary\n",
            "Hyperparameters:\n",
            "num_layers: 1\n",
            "dropout_0: 0.2\n",
            "dropout_1: 0.30000000000000004\n",
            "dropout_2: 0.30000000000000004\n",
            "dropout_3: 0.4\n",
            "tuner/epochs: 2\n",
            "tuner/initial_epoch: 0\n",
            "tuner/bracket: 4\n",
            "tuner/round: 0\n",
            "Score: 0.9275000095367432\n",
            "\n",
            "Trial 0045 summary\n",
            "Hyperparameters:\n",
            "num_layers: 1\n",
            "dropout_0: 0.2\n",
            "dropout_1: 0.30000000000000004\n",
            "dropout_2: 0.4\n",
            "dropout_3: 0.2\n",
            "tuner/epochs: 2\n",
            "tuner/initial_epoch: 0\n",
            "tuner/bracket: 4\n",
            "tuner/round: 0\n",
            "Score: 0.9266666769981384\n",
            "\n",
            "Trial 0012 summary\n",
            "Hyperparameters:\n",
            "num_layers: 1\n",
            "dropout_0: 0.2\n",
            "dropout_1: 0.2\n",
            "dropout_2: 0.4\n",
            "dropout_3: 0.4\n",
            "tuner/epochs: 2\n",
            "tuner/initial_epoch: 0\n",
            "tuner/bracket: 4\n",
            "tuner/round: 0\n",
            "Score: 0.9258333444595337\n",
            "\n",
            "Trial 0052 summary\n",
            "Hyperparameters:\n",
            "num_layers: 1\n",
            "dropout_0: 0.30000000000000004\n",
            "dropout_1: 0.2\n",
            "dropout_2: 0.30000000000000004\n",
            "dropout_3: 0.4\n",
            "tuner/epochs: 2\n",
            "tuner/initial_epoch: 0\n",
            "tuner/bracket: 4\n",
            "tuner/round: 0\n",
            "Score: 0.9254999756813049\n",
            "\n",
            "Trial 0026 summary\n",
            "Hyperparameters:\n",
            "num_layers: 1\n",
            "dropout_0: 0.30000000000000004\n",
            "dropout_1: 0.4\n",
            "dropout_2: 0.4\n",
            "dropout_3: 0.2\n",
            "tuner/epochs: 2\n",
            "tuner/initial_epoch: 0\n",
            "tuner/bracket: 4\n",
            "tuner/round: 0\n",
            "Score: 0.9246666431427002\n",
            "\n",
            "Trial 0029 summary\n",
            "Hyperparameters:\n",
            "num_layers: 1\n",
            "dropout_0: 0.2\n",
            "dropout_1: 0.4\n",
            "dropout_2: 0.2\n",
            "dropout_3: 0.30000000000000004\n",
            "tuner/epochs: 2\n",
            "tuner/initial_epoch: 0\n",
            "tuner/bracket: 4\n",
            "tuner/round: 0\n",
            "Score: 0.9246666431427002\n",
            "\n",
            "Trial 0002 summary\n",
            "Hyperparameters:\n",
            "num_layers: 3\n",
            "dropout_0: 0.30000000000000004\n",
            "dropout_1: 0.2\n",
            "dropout_2: 0.30000000000000004\n",
            "tuner/epochs: 2\n",
            "tuner/initial_epoch: 0\n",
            "tuner/bracket: 4\n",
            "tuner/round: 0\n",
            "Score: 0.9243333339691162\n"
          ]
        }
      ]
    },
    {
      "cell_type": "code",
      "source": [
        "import cv2"
      ],
      "metadata": {
        "id": "6LcYYAnbjYpB"
      },
      "execution_count": null,
      "outputs": []
    },
    {
      "cell_type": "code",
      "source": [
        "def resize(x,size):\n",
        "     for img in x:\n",
        "            resized_img = cv2.resize(img, (size, size))\n",
        "     return resized_img"
      ],
      "metadata": {
        "id": "EHSHXK6EhNxh"
      },
      "execution_count": null,
      "outputs": []
    },
    {
      "cell_type": "code",
      "source": [
        "x_train = resize(x_train,56)\n",
        "x_test = resize(x_test,56)"
      ],
      "metadata": {
        "id": "dizEgHYEhNUW"
      },
      "execution_count": null,
      "outputs": []
    },
    {
      "cell_type": "code",
      "source": [
        "model_layers_resize_56 = tf.keras.Sequential()\n",
        "model_layers_resize_56.add(layers.Flatten(input_shape=(56,56)))\n",
        "\n",
        "# defining hyperparameters for number of  hidden layers\n",
        "model_layers_resize_56.add(keras.layers.Dense(128,activation = 'relu'))\n",
        "model_layers_resize_56.add(keras.layers.Dense(128,activation = 'relu'))\n",
        "model_layers_resize_56.add(keras.layers.Dense(128,activation = 'relu'))\n",
        "\n",
        "model_layers_resize_56.add(layers.Dense(10,activation = 'softmax'))\n",
        "\n",
        "model_layers_resize_56.compile(optimizer = 'adam',\n",
        "              loss = 'sparse_categorical_crossentropy',\n",
        "              metrics = ['accuracy'])"
      ],
      "metadata": {
        "id": "aSswU7VjhYg6"
      },
      "execution_count": null,
      "outputs": []
    },
    {
      "cell_type": "markdown",
      "source": [
        "# DataSet split"
      ],
      "metadata": {
        "id": "SBuBl8LNjReX"
      }
    },
    {
      "cell_type": "code",
      "source": [],
      "metadata": {
        "id": "ezBapc3rglEQ"
      },
      "execution_count": null,
      "outputs": []
    },
    {
      "cell_type": "code",
      "source": [
        "import numpy as np\n",
        "from sklearn.model_selection import train_test_split\n",
        "\n",
        "(x_train, y_train), (x_test, y_test) = keras.datasets.mnist.load_data()\n",
        "x = np.concatenate((x_train, x_test))\n",
        "y = np.concatenate((y_train, y_test))\n",
        "\n",
        "test_size = 0.30\n",
        "x_train, x_test, y_train, y_test = train_test_split(x, y, test_size=test_size)"
      ],
      "metadata": {
        "id": "7u8q7BB-chB_"
      },
      "execution_count": null,
      "outputs": []
    },
    {
      "cell_type": "code",
      "source": [
        "len(x_train),len(x_test)"
      ],
      "metadata": {
        "colab": {
          "base_uri": "https://localhost:8080/"
        },
        "id": "oC97vOvviQeB",
        "outputId": "49683780-eadd-4a7c-aebd-c6002bd5995e"
      },
      "execution_count": null,
      "outputs": [
        {
          "output_type": "execute_result",
          "data": {
            "text/plain": [
              "(49000, 21000)"
            ]
          },
          "metadata": {},
          "execution_count": 37
        }
      ]
    },
    {
      "cell_type": "code",
      "source": [
        "model_10 = tf.keras.Sequential()\n",
        "model_10.add(layers.Flatten(input_shape=(28,28)))\n",
        "\n",
        "model_10.add(layers.Dense(512,activation = 'relu'))\n",
        "\n",
        "model_10.add(layers.Dense(10,activation = 'softmax'))\n",
        "\n",
        "model_10.compile(optimizer = 'adam',\n",
        "              loss = 'sparse_categorical_crossentropy',\n",
        "              metrics = ['accuracy'])"
      ],
      "metadata": {
        "id": "qFgAjpt4iQZ4"
      },
      "execution_count": null,
      "outputs": []
    },
    {
      "cell_type": "code",
      "source": [
        "history_10 = model_10.fit(x_train,y_train,epochs = 10,validation_split = 0.10)"
      ],
      "metadata": {
        "colab": {
          "base_uri": "https://localhost:8080/"
        },
        "id": "ohKbfbn9iQXb",
        "outputId": "11d2e3f4-fa1d-4c27-9aba-c1d18c428dad"
      },
      "execution_count": null,
      "outputs": [
        {
          "output_type": "stream",
          "name": "stdout",
          "text": [
            "Epoch 1/10\n",
            "1379/1379 [==============================] - 6s 3ms/step - loss: 3.4034 - accuracy: 0.9007 - val_loss: 0.8432 - val_accuracy: 0.9141\n",
            "Epoch 2/10\n",
            "1379/1379 [==============================] - 8s 6ms/step - loss: 0.3919 - accuracy: 0.9384 - val_loss: 0.4661 - val_accuracy: 0.9255\n",
            "Epoch 3/10\n",
            "1379/1379 [==============================] - 8s 6ms/step - loss: 0.2988 - accuracy: 0.9441 - val_loss: 0.4609 - val_accuracy: 0.9365\n",
            "Epoch 4/10\n",
            "1379/1379 [==============================] - 7s 5ms/step - loss: 0.3298 - accuracy: 0.9450 - val_loss: 0.4349 - val_accuracy: 0.9400\n",
            "Epoch 5/10\n",
            "1379/1379 [==============================] - 5s 4ms/step - loss: 0.3113 - accuracy: 0.9473 - val_loss: 0.4509 - val_accuracy: 0.9404\n",
            "Epoch 6/10\n",
            "1379/1379 [==============================] - 4s 3ms/step - loss: 0.2553 - accuracy: 0.9530 - val_loss: 0.4324 - val_accuracy: 0.9431\n",
            "Epoch 7/10\n",
            "1379/1379 [==============================] - 4s 3ms/step - loss: 0.2403 - accuracy: 0.9546 - val_loss: 0.5079 - val_accuracy: 0.9235\n",
            "Epoch 8/10\n",
            "1379/1379 [==============================] - 5s 4ms/step - loss: 0.2376 - accuracy: 0.9546 - val_loss: 0.3827 - val_accuracy: 0.9459\n",
            "Epoch 9/10\n",
            "1379/1379 [==============================] - 5s 3ms/step - loss: 0.2044 - accuracy: 0.9593 - val_loss: 0.4291 - val_accuracy: 0.9539\n",
            "Epoch 10/10\n",
            "1379/1379 [==============================] - 5s 3ms/step - loss: 0.2088 - accuracy: 0.9614 - val_loss: 0.4494 - val_accuracy: 0.9469\n"
          ]
        }
      ]
    },
    {
      "cell_type": "code",
      "source": [
        "accuracy(history_10)"
      ],
      "metadata": {
        "colab": {
          "base_uri": "https://localhost:8080/",
          "height": 472
        },
        "id": "XyQso4Hkixby",
        "outputId": "dac20b17-120a-4a94-ec6e-cdc2627d51ae"
      },
      "execution_count": null,
      "outputs": [
        {
          "output_type": "display_data",
          "data": {
            "text/plain": [
              "<Figure size 640x480 with 1 Axes>"
            ],
            "image/png": "[encoded data removed]"
          },
          "metadata": {}
        }
      ]
    },
    {
      "cell_type": "code",
      "source": [
        "loss_plot(history_10)"
      ],
      "metadata": {
        "colab": {
          "base_uri": "https://localhost:8080/",
          "height": 472
        },
        "id": "mCpe6aiTixfC",
        "outputId": "3a5479f0-b42a-4979-a29b-486ff82f46bd"
      },
      "execution_count": null,
      "outputs": [
        {
          "output_type": "display_data",
          "data": {
            "text/plain": [
              "<Figure size 640x480 with 1 Axes>"
            ],
            "image/png": "[encoded data removed]"
          },
          "metadata": {}
        }
      ]
    },
    {
      "cell_type": "code",
      "source": [],
      "metadata": {
        "id": "zGBEU96djCrX"
      },
      "execution_count": null,
      "outputs": []
    }
  ]
}